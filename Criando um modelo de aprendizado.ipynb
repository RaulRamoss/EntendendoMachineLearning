{
 "cells": [
  {
   "cell_type": "markdown",
   "id": "f28a448b",
   "metadata": {},
   "source": [
    "### Importando a base\n",
    "- Base: 'BaseInadimplencia.xlsx'\n",
    "    - Aba: 'teste'"
   ]
  },
  {
   "cell_type": "code",
   "execution_count": 33,
   "id": "41d5216d",
   "metadata": {},
   "outputs": [],
   "source": [
    "# Importando o pandas e a base\n",
    "import pandas as pd\n",
    "base=pd.read_excel('BaseInadimplencia.xlsx', sheet_name='treino')\n",
    "teste=pd.read_excel('BaseInadimplencia.xlsx', sheet_name='teste')"
   ]
  },
  {
   "cell_type": "code",
   "execution_count": 10,
   "id": "e71bdfd6",
   "metadata": {},
   "outputs": [
    {
     "data": {
      "text/html": [
       "<div>\n",
       "<style scoped>\n",
       "    .dataframe tbody tr th:only-of-type {\n",
       "        vertical-align: middle;\n",
       "    }\n",
       "\n",
       "    .dataframe tbody tr th {\n",
       "        vertical-align: top;\n",
       "    }\n",
       "\n",
       "    .dataframe thead th {\n",
       "        text-align: right;\n",
       "    }\n",
       "</style>\n",
       "<table border=\"1\" class=\"dataframe\">\n",
       "  <thead>\n",
       "    <tr style=\"text-align: right;\">\n",
       "      <th></th>\n",
       "      <th>SaldoConta</th>\n",
       "      <th>SaldoInvestimento</th>\n",
       "      <th>Situacao</th>\n",
       "    </tr>\n",
       "  </thead>\n",
       "  <tbody>\n",
       "    <tr>\n",
       "      <th>0</th>\n",
       "      <td>-1.365390</td>\n",
       "      <td>-3.280278</td>\n",
       "      <td>0</td>\n",
       "    </tr>\n",
       "    <tr>\n",
       "      <th>1</th>\n",
       "      <td>-3.910816</td>\n",
       "      <td>-0.874096</td>\n",
       "      <td>0</td>\n",
       "    </tr>\n",
       "    <tr>\n",
       "      <th>2</th>\n",
       "      <td>-2.745822</td>\n",
       "      <td>-2.250098</td>\n",
       "      <td>0</td>\n",
       "    </tr>\n",
       "    <tr>\n",
       "      <th>3</th>\n",
       "      <td>-1.352205</td>\n",
       "      <td>-1.280924</td>\n",
       "      <td>0</td>\n",
       "    </tr>\n",
       "    <tr>\n",
       "      <th>4</th>\n",
       "      <td>-0.596639</td>\n",
       "      <td>-2.932358</td>\n",
       "      <td>0</td>\n",
       "    </tr>\n",
       "  </tbody>\n",
       "</table>\n",
       "</div>"
      ],
      "text/plain": [
       "   SaldoConta  SaldoInvestimento  Situacao\n",
       "0   -1.365390          -3.280278         0\n",
       "1   -3.910816          -0.874096         0\n",
       "2   -2.745822          -2.250098         0\n",
       "3   -1.352205          -1.280924         0\n",
       "4   -0.596639          -2.932358         0"
      ]
     },
     "execution_count": 10,
     "metadata": {},
     "output_type": "execute_result"
    }
   ],
   "source": [
    "# Visualizando as 5 primeiras linhas\n",
    "base.head(5)"
   ]
  },
  {
   "cell_type": "code",
   "execution_count": 11,
   "id": "6153a6bf",
   "metadata": {},
   "outputs": [
    {
     "name": "stdout",
     "output_type": "stream",
     "text": [
      "<class 'pandas.core.frame.DataFrame'>\n",
      "RangeIndex: 822 entries, 0 to 821\n",
      "Data columns (total 3 columns):\n",
      " #   Column             Non-Null Count  Dtype  \n",
      "---  ------             --------------  -----  \n",
      " 0   SaldoConta         822 non-null    float64\n",
      " 1   SaldoInvestimento  822 non-null    float64\n",
      " 2   Situacao           822 non-null    int64  \n",
      "dtypes: float64(2), int64(1)\n",
      "memory usage: 19.4 KB\n"
     ]
    }
   ],
   "source": [
    "# Analisando as informações da nossa base\n",
    "base.info()"
   ]
  },
  {
   "cell_type": "code",
   "execution_count": 12,
   "id": "18c21597",
   "metadata": {},
   "outputs": [
    {
     "data": {
      "text/html": [
       "<div>\n",
       "<style scoped>\n",
       "    .dataframe tbody tr th:only-of-type {\n",
       "        vertical-align: middle;\n",
       "    }\n",
       "\n",
       "    .dataframe tbody tr th {\n",
       "        vertical-align: top;\n",
       "    }\n",
       "\n",
       "    .dataframe thead th {\n",
       "        text-align: right;\n",
       "    }\n",
       "</style>\n",
       "<table border=\"1\" class=\"dataframe\">\n",
       "  <thead>\n",
       "    <tr style=\"text-align: right;\">\n",
       "      <th></th>\n",
       "      <th>SaldoConta</th>\n",
       "      <th>SaldoInvestimento</th>\n",
       "      <th>Situacao</th>\n",
       "    </tr>\n",
       "  </thead>\n",
       "  <tbody>\n",
       "    <tr>\n",
       "      <th>count</th>\n",
       "      <td>822.000000</td>\n",
       "      <td>822.000000</td>\n",
       "      <td>822.000000</td>\n",
       "    </tr>\n",
       "    <tr>\n",
       "      <th>mean</th>\n",
       "      <td>-0.247795</td>\n",
       "      <td>-0.132280</td>\n",
       "      <td>0.459854</td>\n",
       "    </tr>\n",
       "    <tr>\n",
       "      <th>std</th>\n",
       "      <td>2.833035</td>\n",
       "      <td>2.818233</td>\n",
       "      <td>0.498689</td>\n",
       "    </tr>\n",
       "    <tr>\n",
       "      <th>min</th>\n",
       "      <td>-5.849007</td>\n",
       "      <td>-6.078304</td>\n",
       "      <td>0.000000</td>\n",
       "    </tr>\n",
       "    <tr>\n",
       "      <th>25%</th>\n",
       "      <td>-2.769107</td>\n",
       "      <td>-2.630050</td>\n",
       "      <td>0.000000</td>\n",
       "    </tr>\n",
       "    <tr>\n",
       "      <th>50%</th>\n",
       "      <td>-0.813568</td>\n",
       "      <td>-0.864735</td>\n",
       "      <td>0.000000</td>\n",
       "    </tr>\n",
       "    <tr>\n",
       "      <th>75%</th>\n",
       "      <td>2.326787</td>\n",
       "      <td>2.538630</td>\n",
       "      <td>1.000000</td>\n",
       "    </tr>\n",
       "    <tr>\n",
       "      <th>max</th>\n",
       "      <td>6.231182</td>\n",
       "      <td>5.960512</td>\n",
       "      <td>1.000000</td>\n",
       "    </tr>\n",
       "  </tbody>\n",
       "</table>\n",
       "</div>"
      ],
      "text/plain": [
       "       SaldoConta  SaldoInvestimento    Situacao\n",
       "count  822.000000         822.000000  822.000000\n",
       "mean    -0.247795          -0.132280    0.459854\n",
       "std      2.833035           2.818233    0.498689\n",
       "min     -5.849007          -6.078304    0.000000\n",
       "25%     -2.769107          -2.630050    0.000000\n",
       "50%     -0.813568          -0.864735    0.000000\n",
       "75%      2.326787           2.538630    1.000000\n",
       "max      6.231182           5.960512    1.000000"
      ]
     },
     "execution_count": 12,
     "metadata": {},
     "output_type": "execute_result"
    }
   ],
   "source": [
    "# Entendendo as informações estatísticas\n",
    "base.describe()"
   ]
  },
  {
   "cell_type": "markdown",
   "id": "e507fcfa",
   "metadata": {},
   "source": [
    "### Analisando a base importada\n",
    "- Vamos criar um scatter plot com os dados importados\n",
    "    - https://matplotlib.org/stable/plot_types/basic/scatter_plot.html#sphx-glr-plot-types-basic-scatter-plot-py"
   ]
  },
  {
   "cell_type": "code",
   "execution_count": 13,
   "id": "a41ebe77",
   "metadata": {},
   "outputs": [
    {
     "data": {
      "image/png": "[encoded data removed]",
      "text/plain": [
       "<Figure size 432x288 with 1 Axes>"
      ]
     },
     "metadata": {
      "needs_background": "light"
     },
     "output_type": "display_data"
    }
   ],
   "source": [
    "# Criando um scatter plot usando as informações da base e com as cores sendo a classificação do modelo\n",
    "import matplotlib.pyplot as plt\n",
    "\n",
    "fig,ax=plt.subplots()\n",
    "\n",
    "x=base['SaldoConta']\n",
    "y=base['SaldoInvestimento']\n",
    "\n",
    "ax.scatter(x,y,c=base['Situacao'])\n",
    "\n",
    "plt.show()"
   ]
  },
  {
   "cell_type": "markdown",
   "id": "c32421d3",
   "metadata": {},
   "source": [
    "### Criando o modelo usando uma reta que separe esses pontos\n",
    "- Vamos criar uma reta como fizemos no projeto 3, capaz de separar esses dados"
   ]
  },
  {
   "cell_type": "code",
   "execution_count": 37,
   "id": "4dd86a7d",
   "metadata": {},
   "outputs": [
    {
     "data": {
      "image/png": "[encoded data removed]",
      "text/plain": [
       "<Figure size 432x288 with 1 Axes>"
      ]
     },
     "metadata": {
      "needs_background": "light"
     },
     "output_type": "display_data"
    }
   ],
   "source": [
    "# Criando uma reta capaz de separar esses pontos\n",
    "fig,ax=plt.subplots()\n",
    "\n",
    "#criando o scatter dados treino\n",
    "#x=base['SaldoConta']\n",
    "#y=base['SaldoInvestimento']\n",
    "#ax.scatter(x,y,c='b')\n",
    "\n",
    "#criando o scatter dados teste\n",
    "x=teste['SaldoConta']\n",
    "y=teste['SaldoInvestimento']\n",
    "ax.scatter(x,y,c=teste['Situacao'])\n",
    "\n",
    "# criando a reta\n",
    "x_reta=[-7,7]\n",
    "y_reta=[7,-7]\n",
    "ax.plot(x_reta,y_reta,c='r')\n",
    "\n",
    "plt.show()"
   ]
  },
  {
   "cell_type": "code",
   "execution_count": 15,
   "id": "4d0e412a",
   "metadata": {},
   "outputs": [
    {
     "data": {
      "image/png": "[encoded data removed]",
      "text/plain": [
       "<Figure size 432x288 with 1 Axes>"
      ]
     },
     "metadata": {
      "needs_background": "light"
     },
     "output_type": "display_data"
    }
   ],
   "source": [
    "# Avaliando a capacidade da reta de separar os dados\n",
    "import numpy as np\n",
    "fig,ax=plt.subplots()\n",
    "\n",
    "# criando o scatter\n",
    "x=base['SaldoConta']\n",
    "y=base['SaldoInvestimento']\n",
    "ax.scatter(x,y,c=base['Situacao'])\n",
    "\n",
    "# criando a reta\n",
    "x_reta=[-7,7]\n",
    "y_reta=[7,-7]\n",
    "ax.plot(x_reta,y_reta,c='r')\n",
    "\n",
    "# \"dando zoom\" ou configurando somente o que queremos ver no gráfico\n",
    "ax.set(xlim=(-2,2), xticks=np.arange(-2,3),\n",
    "       ylim=(-2,2), yticks=np.arange(-2,3))\n",
    "\n",
    "plt.show()"
   ]
  },
  {
   "cell_type": "markdown",
   "id": "7a351e7d",
   "metadata": {},
   "source": [
    "### Criando uma função que consiga classificar os dados de treino\n",
    "- Agora vamos criar uma função que seja capaz de classificar cada um dos pontos da base de treino"
   ]
  },
  {
   "cell_type": "code",
   "execution_count": 16,
   "id": "7375a43c",
   "metadata": {},
   "outputs": [
    {
     "ename": "SyntaxError",
     "evalue": "invalid syntax (131752901.py, line 7)",
     "output_type": "error",
     "traceback": [
      "\u001b[1;36m  Input \u001b[1;32mIn [16]\u001b[1;36m\u001b[0m\n\u001b[1;33m    x_reta=[-7,7] -> 7 = a.(-7)+b\u001b[0m\n\u001b[1;37m                  ^\u001b[0m\n\u001b[1;31mSyntaxError\u001b[0m\u001b[1;31m:\u001b[0m invalid syntax\n"
     ]
    }
   ],
   "source": [
    "# Transformando a reta criada acima em uma função\n",
    "\n",
    "# equação de todas as retas\n",
    "y = ax+b\n",
    "\n",
    "# entao ficamos assim\n",
    "x_reta=[-7,7] -> 7 = a.(-7)+b\n",
    "y_reta=[7,-7] -> -7 = a.7+b\n",
    "\n",
    "# depois de substituir os valores, temos que pegar um deles e multiplicar por -1\n",
    "-7 = a.7-b\n",
    "-7 = a.7+b\n",
    "-14 = a.14+0\n",
    "-14/14 = a\n",
    "-1 = a\n",
    "\n",
    "-7 = a.7+b\n",
    "-7 = (-1).(7)+b\n",
    "-7 = -7+b\n",
    "0 = b\n",
    "\n",
    "y = ax+b\n",
    "y = -x+0\n",
    "y = -x"
   ]
  },
  {
   "cell_type": "code",
   "execution_count": null,
   "id": "1d8c570a",
   "metadata": {},
   "outputs": [],
   "source": [
    "y_modelo = -x_modelo"
   ]
  },
  {
   "cell_type": "code",
   "execution_count": 17,
   "id": "ca111016",
   "metadata": {},
   "outputs": [
    {
     "data": {
      "text/html": [
       "<div>\n",
       "<style scoped>\n",
       "    .dataframe tbody tr th:only-of-type {\n",
       "        vertical-align: middle;\n",
       "    }\n",
       "\n",
       "    .dataframe tbody tr th {\n",
       "        vertical-align: top;\n",
       "    }\n",
       "\n",
       "    .dataframe thead th {\n",
       "        text-align: right;\n",
       "    }\n",
       "</style>\n",
       "<table border=\"1\" class=\"dataframe\">\n",
       "  <thead>\n",
       "    <tr style=\"text-align: right;\">\n",
       "      <th></th>\n",
       "      <th>SaldoConta</th>\n",
       "      <th>SaldoInvestimento</th>\n",
       "      <th>Situacao</th>\n",
       "    </tr>\n",
       "  </thead>\n",
       "  <tbody>\n",
       "    <tr>\n",
       "      <th>0</th>\n",
       "      <td>-1.365390</td>\n",
       "      <td>-3.280278</td>\n",
       "      <td>0</td>\n",
       "    </tr>\n",
       "    <tr>\n",
       "      <th>1</th>\n",
       "      <td>-3.910816</td>\n",
       "      <td>-0.874096</td>\n",
       "      <td>0</td>\n",
       "    </tr>\n",
       "  </tbody>\n",
       "</table>\n",
       "</div>"
      ],
      "text/plain": [
       "   SaldoConta  SaldoInvestimento  Situacao\n",
       "0   -1.365390          -3.280278         0\n",
       "1   -3.910816          -0.874096         0"
      ]
     },
     "execution_count": 17,
     "metadata": {},
     "output_type": "execute_result"
    }
   ],
   "source": [
    "base.head(2)"
   ]
  },
  {
   "cell_type": "code",
   "execution_count": 18,
   "id": "75267b3c",
   "metadata": {},
   "outputs": [
    {
     "data": {
      "image/png": "[encoded data removed]",
      "text/plain": [
       "<Figure size 432x288 with 1 Axes>"
      ]
     },
     "metadata": {
      "needs_background": "light"
     },
     "output_type": "display_data"
    }
   ],
   "source": [
    "# Aplicando a função aos dados de treino\n",
    "fig,ax=plt.subplots()\n",
    "\n",
    "#criando o scatter\n",
    "x=base['SaldoConta']\n",
    "y=base['SaldoInvestimento']\n",
    "ax.scatter(x,y,c=base['Situacao'])\n",
    "\n",
    "# criando a reta\n",
    "x_reta=[-7,7]\n",
    "y_reta=[7,-7]\n",
    "ax.plot(x_reta,y_reta,c='r')\n",
    "\n",
    "# novo ponto que to analisando\n",
    "ax.scatter(-1.365390,-3.280278,c='orange')\n",
    "\n",
    "# ponto no modelo que criei\n",
    "ax.scatter(-1.365390,1.365390,c='b')\n",
    "\n",
    "plt.show()"
   ]
  },
  {
   "cell_type": "code",
   "execution_count": 19,
   "id": "c77e7cfe",
   "metadata": {},
   "outputs": [],
   "source": [
    "# Criando uma função que classifica os pontos\n",
    "def clf(x,y):\n",
    "    y_modelo = -x\n",
    "    if y_modelo>=y:\n",
    "        return 0\n",
    "    elif y_modelo<y:\n",
    "        return 1"
   ]
  },
  {
   "cell_type": "code",
   "execution_count": 38,
   "id": "0ccaa765",
   "metadata": {},
   "outputs": [],
   "source": [
    "# Aplicando a função aos dados de treino\n",
    "base['predict']=base.apply(lambda x:clf(x['SaldoConta'],x['SaldoInvestimento']),axis=1)\n",
    "teste['predict']=teste.apply(lambda x:clf(x['SaldoConta'],x['SaldoInvestimento']),axis=1)"
   ]
  },
  {
   "cell_type": "code",
   "execution_count": 39,
   "id": "746998f2",
   "metadata": {},
   "outputs": [
    {
     "data": {
      "text/html": [
       "<div>\n",
       "<style scoped>\n",
       "    .dataframe tbody tr th:only-of-type {\n",
       "        vertical-align: middle;\n",
       "    }\n",
       "\n",
       "    .dataframe tbody tr th {\n",
       "        vertical-align: top;\n",
       "    }\n",
       "\n",
       "    .dataframe thead th {\n",
       "        text-align: right;\n",
       "    }\n",
       "</style>\n",
       "<table border=\"1\" class=\"dataframe\">\n",
       "  <thead>\n",
       "    <tr style=\"text-align: right;\">\n",
       "      <th></th>\n",
       "      <th>SaldoConta</th>\n",
       "      <th>SaldoInvestimento</th>\n",
       "      <th>Situacao</th>\n",
       "      <th>predict</th>\n",
       "    </tr>\n",
       "  </thead>\n",
       "  <tbody>\n",
       "    <tr>\n",
       "      <th>0</th>\n",
       "      <td>-1.992492</td>\n",
       "      <td>-4.158429</td>\n",
       "      <td>0</td>\n",
       "      <td>0</td>\n",
       "    </tr>\n",
       "    <tr>\n",
       "      <th>1</th>\n",
       "      <td>-3.306014</td>\n",
       "      <td>-4.261263</td>\n",
       "      <td>0</td>\n",
       "      <td>0</td>\n",
       "    </tr>\n",
       "    <tr>\n",
       "      <th>2</th>\n",
       "      <td>-2.027399</td>\n",
       "      <td>-3.370517</td>\n",
       "      <td>0</td>\n",
       "      <td>0</td>\n",
       "    </tr>\n",
       "    <tr>\n",
       "      <th>3</th>\n",
       "      <td>-1.214772</td>\n",
       "      <td>-1.177712</td>\n",
       "      <td>0</td>\n",
       "      <td>0</td>\n",
       "    </tr>\n",
       "    <tr>\n",
       "      <th>4</th>\n",
       "      <td>-3.757442</td>\n",
       "      <td>-2.849533</td>\n",
       "      <td>0</td>\n",
       "      <td>0</td>\n",
       "    </tr>\n",
       "  </tbody>\n",
       "</table>\n",
       "</div>"
      ],
      "text/plain": [
       "   SaldoConta  SaldoInvestimento  Situacao  predict\n",
       "0   -1.992492          -4.158429         0        0\n",
       "1   -3.306014          -4.261263         0        0\n",
       "2   -2.027399          -3.370517         0        0\n",
       "3   -1.214772          -1.177712         0        0\n",
       "4   -3.757442          -2.849533         0        0"
      ]
     },
     "execution_count": 39,
     "metadata": {},
     "output_type": "execute_result"
    }
   ],
   "source": [
    "# Visualizando a base\n",
    "teste.head()"
   ]
  },
  {
   "cell_type": "code",
   "execution_count": 40,
   "id": "ec863d3e",
   "metadata": {},
   "outputs": [
    {
     "data": {
      "text/plain": [
       "Situacao  predict\n",
       "0         0          98\n",
       "          1           1\n",
       "1         1          79\n",
       "Name: Situacao, dtype: int64"
      ]
     },
     "execution_count": 40,
     "metadata": {},
     "output_type": "execute_result"
    }
   ],
   "source": [
    "# Utilizando o group by\n",
    "teste.groupby(['Situacao','predict'])['Situacao'].count()"
   ]
  },
  {
   "cell_type": "markdown",
   "id": "f912e552",
   "metadata": {},
   "source": [
    "### Avaliando o modelo criado\n",
    "- Para avaliar o modelo, vamos começar utilizando a matriz de confusão (confusion matrix)\n",
    "    - https://scikit-learn.org/stable/modules/generated/sklearn.metrics.confusion_matrix.html"
   ]
  },
  {
   "cell_type": "code",
   "execution_count": 27,
   "id": "5ad34b12",
   "metadata": {},
   "outputs": [
    {
     "data": {
      "text/plain": [
       "array([[444,   0],\n",
       "       [  0, 378]], dtype=int64)"
      ]
     },
     "execution_count": 27,
     "metadata": {},
     "output_type": "execute_result"
    }
   ],
   "source": [
    "# Matriz Confusão Base Treino\n",
    "from sklearn.metrics import confusion_matrix\n",
    "\n",
    "y_true=base['Situacao']\n",
    "y_pred=base['predict']\n",
    "\n",
    "confusion_matrix(y_true, y_pred)"
   ]
  },
  {
   "cell_type": "code",
   "execution_count": 41,
   "id": "7bf33fd4",
   "metadata": {},
   "outputs": [
    {
     "data": {
      "text/plain": [
       "array([[98,  1],\n",
       "       [ 0, 79]], dtype=int64)"
      ]
     },
     "execution_count": 41,
     "metadata": {},
     "output_type": "execute_result"
    }
   ],
   "source": [
    "# Matriz Confusão Base Teste\n",
    "\n",
    "y_true=teste['Situacao']\n",
    "y_pred=teste['predict']\n",
    "\n",
    "confusion_matrix(y_true, y_pred)"
   ]
  },
  {
   "cell_type": "markdown",
   "id": "531e7ac7",
   "metadata": {},
   "source": [
    "- Vamos calcular a acurácia\n",
    "    - https://scikit-learn.org/stable/modules/generated/sklearn.metrics.accuracy_score.html#sklearn.metrics.accuracy_score"
   ]
  },
  {
   "cell_type": "code",
   "execution_count": 28,
   "id": "242020c7",
   "metadata": {},
   "outputs": [
    {
     "data": {
      "text/plain": [
       "1.0"
      ]
     },
     "execution_count": 28,
     "metadata": {},
     "output_type": "execute_result"
    }
   ],
   "source": [
    "# Quantos o modelo acertou? Base Treino\n",
    "\n",
    "# Acurária = (Verdadeiro Positivo + Verdadeiro Negativo) / Total\n",
    "\n",
    "from sklearn.metrics import accuracy_score\n",
    "accuracy_score(y_true, y_pred)"
   ]
  },
  {
   "cell_type": "code",
   "execution_count": 42,
   "id": "ce510ca7",
   "metadata": {},
   "outputs": [
    {
     "data": {
      "text/plain": [
       "0.9943820224719101"
      ]
     },
     "execution_count": 42,
     "metadata": {},
     "output_type": "execute_result"
    }
   ],
   "source": [
    "# Quantos o modelo acertou? Base Teste\n",
    "\n",
    "# Acurária = (Verdadeiro Positivo + Verdadeiro Negativo) / Total\n",
    "\n",
    "from sklearn.metrics import accuracy_score\n",
    "accuracy_score(y_true, y_pred)"
   ]
  },
  {
   "cell_type": "markdown",
   "id": "8f3db8f9",
   "metadata": {},
   "source": [
    "- E então vamos utilizar a precisão\n",
    "    - https://scikit-learn.org/stable/modules/generated/sklearn.metrics.precision_score.html"
   ]
  },
  {
   "cell_type": "code",
   "execution_count": 32,
   "id": "db203d3e",
   "metadata": {},
   "outputs": [
    {
     "data": {
      "text/plain": [
       "1.0"
      ]
     },
     "execution_count": 32,
     "metadata": {},
     "output_type": "execute_result"
    }
   ],
   "source": [
    "# Dos que eram verdadeiros, quantos eu consigui avaliar como verdadeiro? Base Treino\n",
    "\n",
    "# Precisão = Verdadeiro Positivo / (Verdadeiro Positivo + Falso Positivo)\n",
    "\n",
    "from sklearn.metrics import precision_score\n",
    "precision_score(y_true, y_pred)"
   ]
  },
  {
   "cell_type": "code",
   "execution_count": 43,
   "id": "4fb3c075",
   "metadata": {},
   "outputs": [
    {
     "data": {
      "text/plain": [
       "0.9875"
      ]
     },
     "execution_count": 43,
     "metadata": {},
     "output_type": "execute_result"
    }
   ],
   "source": [
    "# Dos que eram verdadeiros, quantos eu consigui avaliar como verdadeiro? Base Teste\n",
    "\n",
    "# Precisão = Verdadeiro Positivo / (Verdadeiro Positivo + Falso Positivo)\n",
    "\n",
    "from sklearn.metrics import precision_score\n",
    "precision_score(y_true, y_pred)"
   ]
  },
  {
   "cell_type": "markdown",
   "id": "cbd08476",
   "metadata": {},
   "source": [
    "- E o recall\n",
    "    - https://scikit-learn.org/stable/modules/generated/sklearn.metrics.recall_score.html#sklearn.metrics.recall_score"
   ]
  },
  {
   "cell_type": "code",
   "execution_count": 31,
   "id": "7984597e",
   "metadata": {},
   "outputs": [
    {
     "data": {
      "text/plain": [
       "1.0"
      ]
     },
     "execution_count": 31,
     "metadata": {},
     "output_type": "execute_result"
    }
   ],
   "source": [
    "# Base Treino\n",
    "\n",
    "# Recall = Verdadeiro Positivo / (Verdadeiro Positivo + Falso Negativo)\n",
    "\n",
    "from sklearn.metrics import recall_score\n",
    "recall_score(y_true, y_pred)"
   ]
  },
  {
   "cell_type": "code",
   "execution_count": 44,
   "id": "01e3b44c",
   "metadata": {},
   "outputs": [
    {
     "data": {
      "text/plain": [
       "1.0"
      ]
     },
     "execution_count": 44,
     "metadata": {},
     "output_type": "execute_result"
    }
   ],
   "source": [
    "# Base Teste\n",
    "\n",
    "# Recall = Verdadeiro Positivo / (Verdadeiro Positivo + Falso Negativo)\n",
    "\n",
    "from sklearn.metrics import recall_score\n",
    "recall_score(y_true, y_pred)"
   ]
  }
 ],
 "metadata": {
  "kernelspec": {
   "display_name": "Python 3 (ipykernel)",
   "language": "python",
   "name": "python3"
  },
  "language_info": {
   "codemirror_mode": {
    "name": "ipython",
    "version": 3
   },
   "file_extension": ".py",
   "mimetype": "text/x-python",
   "name": "python",
   "nbconvert_exporter": "python",
   "pygments_lexer": "ipython3",
   "version": "3.9.12"
  }
 },
 "nbformat": 4,
 "nbformat_minor": 5
}
